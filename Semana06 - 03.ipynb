{
 "cells": [
  {
   "cell_type": "markdown",
   "id": "2e6fe83c",
   "metadata": {},
   "source": [
    "# Semana 06-03\n"
   ]
  },
  {
   "cell_type": "markdown",
   "id": "e500f9ff",
   "metadata": {},
   "source": [
    "Oscar Elias Reyes Sanchez"
   ]
  },
  {
   "cell_type": "code",
   "execution_count": 1,
   "id": "176402b2",
   "metadata": {},
   "outputs": [
    {
     "ename": "NameError",
     "evalue": "name 'Persona' is not defined",
     "output_type": "error",
     "traceback": [
      "\u001b[1;31m---------------------------------------------------------------------------\u001b[0m",
      "\u001b[1;31mNameError\u001b[0m                                 Traceback (most recent call last)",
      "\u001b[1;32m~\\AppData\\Local\\Temp/ipykernel_11368/1706093450.py\u001b[0m in \u001b[0;36m<module>\u001b[1;34m\u001b[0m\n\u001b[0;32m      1\u001b[0m \u001b[1;31m# Creamos un objeto de la clase perosna y le asignamos valores\u001b[0m\u001b[1;33m\u001b[0m\u001b[1;33m\u001b[0m\u001b[0m\n\u001b[0;32m      2\u001b[0m \u001b[1;31m# Creacion del objeto personal\u001b[0m\u001b[1;33m\u001b[0m\u001b[1;33m\u001b[0m\u001b[0m\n\u001b[1;32m----> 3\u001b[1;33m \u001b[0mpersona1\u001b[0m \u001b[1;33m=\u001b[0m \u001b[0mPersona\u001b[0m\u001b[1;33m(\u001b[0m\u001b[1;33m)\u001b[0m\u001b[1;33m\u001b[0m\u001b[1;33m\u001b[0m\u001b[0m\n\u001b[0m\u001b[0;32m      4\u001b[0m \u001b[1;33m\u001b[0m\u001b[0m\n\u001b[0;32m      5\u001b[0m \u001b[1;31m# Asignar valores al objeto\u001b[0m\u001b[1;33m\u001b[0m\u001b[1;33m\u001b[0m\u001b[0m\n",
      "\u001b[1;31mNameError\u001b[0m: name 'Persona' is not defined"
     ]
    }
   ],
   "source": [
    "# Creamos un objeto de la clase perosna y le asignamos valores \n",
    "# Creacion del objeto personal\n",
    "persona1 = Persona()\n",
    "\n",
    "# Asignar valores al objeto\n",
    "persona1.nombre = \"Pablo\"\n",
    "persona1.apellidos = \"Perez prado\"\n",
    "persona1.dni = \"12345678\"\n",
    "persona1.talla = 1.7\n",
    "\n",
    "#Para mostrar los valores del objeto:\n",
    "print(\"persona1\")\n",
    "print(f\"Nombre: {persona1.nombre}\")\n",
    "print(f\"Apellidos: {persona1.apellidos}\")\n",
    "print(f\"DNI: {persona1.dni}\")\n",
    "print(f\"Talla: {persona1.talla}\")\n"
   ]
  },
  {
   "cell_type": "code",
   "execution_count": 2,
   "id": "5bfee737",
   "metadata": {},
   "outputs": [],
   "source": [
    "# Para utilizar constructores utilizamos:_init_\n",
    "#¿Qué es un constructor?\n",
    "# Es un método\n",
    "# Sirve para inicializar valores a una clase"
   ]
  },
  {
   "cell_type": "code",
   "execution_count": 3,
   "id": "50633d87",
   "metadata": {},
   "outputs": [],
   "source": [
    "# Problema:\n",
    "# Crear la siguiente clase y utilizar constructores:\n",
    "# Clase: Curso\n",
    "# Atributos: Código, Nombre, Horas, Créditos,"
   ]
  },
  {
   "cell_type": "code",
   "execution_count": 7,
   "id": "5202b211",
   "metadata": {},
   "outputs": [],
   "source": [
    "# Solución\n",
    "class curso:\n",
    "    def __init__(self, codigo,nombre,horas,creditos):\n",
    "        self.codigo = codigo\n",
    "        self.nombre = nombre\n",
    "        self.horas = horas\n",
    "        self.creditos = creditos\n",
    "        \n",
    "    def mostrar_datos_curso(self):\n",
    "        print(f\"Curso: {self.nombre}\")\n",
    "        print(f\"Codigo: {self.codigo}\")\n",
    "        print(f\"Horas: {self.horas}\")\n",
    "        print(f\"Créditos: {self.creditos}\")\n",
    "        "
   ]
  },
  {
   "cell_type": "code",
   "execution_count": 8,
   "id": "912c3ed1",
   "metadata": {},
   "outputs": [],
   "source": [
    "# Creamos el objeto curso1 y le mandamos parámetros \n",
    "curso1 = curso(\"C0501\",\"LP3\",6,3) "
   ]
  },
  {
   "cell_type": "code",
   "execution_count": 10,
   "id": "70a86c63",
   "metadata": {},
   "outputs": [],
   "source": [
    "# Mostramos los datos completos del curso, ejecutando curso1.mostrar_datos_curso();"
   ]
  },
  {
   "cell_type": "code",
   "execution_count": 12,
   "id": "27711aa7",
   "metadata": {},
   "outputs": [
    {
     "name": "stdout",
     "output_type": "stream",
     "text": [
      "Curso: LP3\n",
      "Codigo: C0501\n",
      "Horas: 6\n",
      "Créditos: 3\n"
     ]
    }
   ],
   "source": [
    "curso1.mostrar_datos_curso()"
   ]
  },
  {
   "cell_type": "code",
   "execution_count": null,
   "id": "245e2c12",
   "metadata": {},
   "outputs": [],
   "source": []
  }
 ],
 "metadata": {
  "kernelspec": {
   "display_name": "Python 3 (ipykernel)",
   "language": "python",
   "name": "python3"
  },
  "language_info": {
   "codemirror_mode": {
    "name": "ipython",
    "version": 3
   },
   "file_extension": ".py",
   "mimetype": "text/x-python",
   "name": "python",
   "nbconvert_exporter": "python",
   "pygments_lexer": "ipython3",
   "version": "3.9.7"
  }
 },
 "nbformat": 4,
 "nbformat_minor": 5
}
