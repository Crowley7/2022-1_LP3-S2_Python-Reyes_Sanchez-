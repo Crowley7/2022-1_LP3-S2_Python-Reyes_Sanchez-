{
 "cells": [
  {
   "cell_type": "markdown",
   "id": "0876b145",
   "metadata": {},
   "source": [
    "# Semana 06"
   ]
  },
  {
   "cell_type": "markdown",
   "id": "cde51b38",
   "metadata": {},
   "source": [
    "Oscar Elias Reyes Sanchez \n"
   ]
  },
  {
   "cell_type": "markdown",
   "id": "887b868d",
   "metadata": {},
   "source": [
    "Tema : Funciones"
   ]
  },
  {
   "cell_type": "code",
   "execution_count": 1,
   "id": "9b04c130",
   "metadata": {},
   "outputs": [],
   "source": [
    "# Tambien son conocidos como métodos \n",
    "\n",
    "# Para crear un método utilizamos: def\n",
    "# Tenemos 4 métodos:\n",
    "# - Métodos Vacíos\n",
    "# - Métodos que reciben valores\n",
    "# - Métodos que devuelven valores\n",
    "# - Métodos que reciben y devuelven valores"
   ]
  },
  {
   "cell_type": "code",
   "execution_count": 5,
   "id": "76845fcd",
   "metadata": {},
   "outputs": [],
   "source": [
    "# Métodos Vacios\n",
    "# Explicación: No reciben valores (Parámetros)\n",
    "\n",
    "def saludo():\n",
    "    print (\"Bienvenidos al curso de LP3\")\n",
    "    print(\"*******Python********\")"
   ]
  },
  {
   "cell_type": "code",
   "execution_count": 6,
   "id": "0bb0db94",
   "metadata": {},
   "outputs": [
    {
     "name": "stdout",
     "output_type": "stream",
     "text": [
      "Bienvenidos al curso de LP3\n",
      "*******Python********\n"
     ]
    }
   ],
   "source": [
    "saludo()"
   ]
  },
  {
   "cell_type": "code",
   "execution_count": 14,
   "id": "d733ff48",
   "metadata": {},
   "outputs": [],
   "source": [
    "# Métodos que reciben valores \n",
    "def factorial(numero):\n",
    "    fac = 1\n",
    "    for i in range(1,numero+1):\n",
    "        fac*=i\n",
    "        # fac = fac*i\n",
    "    print(f\"el factorial es: {fac}\")"
   ]
  },
  {
   "cell_type": "code",
   "execution_count": 15,
   "id": "4b216bda",
   "metadata": {},
   "outputs": [
    {
     "name": "stdout",
     "output_type": "stream",
     "text": [
      "Ingrese Numero: 5\n",
      "el factorial es: 120\n"
     ]
    }
   ],
   "source": [
    "numero = int(input(\"Ingrese Numero: \"))\n",
    "factorial(numero)"
   ]
  },
  {
   "cell_type": "code",
   "execution_count": 16,
   "id": "16d51673",
   "metadata": {},
   "outputs": [],
   "source": [
    "# Metodos que reciben y devuelven valores\n",
    "\n",
    "def factorial2(numero):\n",
    "    fac = 1\n",
    "    for i in range(1, numero+1):\n",
    "        fac*=i\n",
    "    return fac"
   ]
  },
  {
   "cell_type": "code",
   "execution_count": 17,
   "id": "276cc852",
   "metadata": {},
   "outputs": [
    {
     "name": "stdout",
     "output_type": "stream",
     "text": [
      "Numero: 6\n",
      "el factorial de 6 es: 720\n"
     ]
    }
   ],
   "source": [
    "numero = int(input(\"Numero: \"))\n",
    "print(f\"el factorial de {numero} es: {factorial2(numero)}\")"
   ]
  },
  {
   "cell_type": "code",
   "execution_count": 18,
   "id": "f799f0c6",
   "metadata": {},
   "outputs": [],
   "source": [
    "# otro ejemplo\n",
    "# calcular el igv\n",
    "def obtenerigv(importe):\n",
    "    return importe*0.19"
   ]
  },
  {
   "cell_type": "code",
   "execution_count": 19,
   "id": "1a3eda0e",
   "metadata": {},
   "outputs": [
    {
     "data": {
      "text/plain": [
       "38.0"
      ]
     },
     "execution_count": 19,
     "metadata": {},
     "output_type": "execute_result"
    }
   ],
   "source": [
    "obtenerigv(200)"
   ]
  },
  {
   "cell_type": "code",
   "execution_count": 20,
   "id": "5bdc866e",
   "metadata": {},
   "outputs": [
    {
     "data": {
      "text/plain": [
       "140"
      ]
     },
     "execution_count": 20,
     "metadata": {},
     "output_type": "execute_result"
    }
   ],
   "source": [
    "factorial2(5)+20"
   ]
  },
  {
   "cell_type": "code",
   "execution_count": null,
   "id": "9e45631a",
   "metadata": {},
   "outputs": [],
   "source": []
  }
 ],
 "metadata": {
  "kernelspec": {
   "display_name": "Python 3 (ipykernel)",
   "language": "python",
   "name": "python3"
  },
  "language_info": {
   "codemirror_mode": {
    "name": "ipython",
    "version": 3
   },
   "file_extension": ".py",
   "mimetype": "text/x-python",
   "name": "python",
   "nbconvert_exporter": "python",
   "pygments_lexer": "ipython3",
   "version": "3.9.7"
  }
 },
 "nbformat": 4,
 "nbformat_minor": 5
}
