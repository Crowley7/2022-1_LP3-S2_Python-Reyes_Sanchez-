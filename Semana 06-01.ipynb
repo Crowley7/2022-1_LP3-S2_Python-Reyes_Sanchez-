{
 "cells": [
  {
   "cell_type": "markdown",
   "id": "7b8658fe",
   "metadata": {},
   "source": [
    "# Semana 06 - 01"
   ]
  },
  {
   "cell_type": "code",
   "execution_count": 2,
   "id": "66b63467",
   "metadata": {},
   "outputs": [],
   "source": [
    "# IF - ELSE"
   ]
  },
  {
   "cell_type": "code",
   "execution_count": 3,
   "id": "1dfb0894",
   "metadata": {},
   "outputs": [],
   "source": [
    "# Problema 01(Recordando)\n",
    "#Dado una lista de [ACUÑA, CHAVEZ, CONDORI, CONTRERAS, HINOSTROZA, LEANDRO, QUISPE, REYES, RUIZ, SAYAS, TRIGO, VASQUEZ, VERA, ZEVALLOS]\n",
    "# Diseñar el código que muestre si el apellido de un estudiante(ingreso por teclado) forma parte de la lista."
   ]
  },
  {
   "cell_type": "code",
   "execution_count": 34,
   "id": "a979e0de",
   "metadata": {},
   "outputs": [
    {
     "name": "stdout",
     "output_type": "stream",
     "text": [
      "Ingresa nombre a buscar: JUAN\n",
      "JUAN no está en la lista de LP3\n"
     ]
    }
   ],
   "source": [
    "# Solución:\n",
    "LP3 = [\"ACUÑA\", \"CHAVEZ\", \"CONDORI\", \"CONTRERAS\", \"HINOSTROZA\", \"LEANDRO\", \"QUISPE\", \"REYES\", \"RUIZ\", \"SAYAS\", \"TRIGO\", \"VASQUEZ\", \"VERA\", \"ZEVALLOS\"]\n",
    "\n",
    "apellido = input(\"Ingresa nombre a buscar: \")\n",
    "# Como los datos de al lista están en mayúscula, utilizo upper()\n",
    "if apellido.upper() in LP3:\n",
    "    print(apellido+\" si está en la lista de LP3\")\n",
    "else:\n",
    "    print(apellido+ \" no está en la lista de LP3\")"
   ]
  },
  {
   "cell_type": "code",
   "execution_count": 33,
   "id": "4768495b",
   "metadata": {},
   "outputs": [
    {
     "name": "stdout",
     "output_type": "stream",
     "text": [
      "Ingrese su importe total de ventas: -34\n",
      "El dato es erróneo\n"
     ]
    }
   ],
   "source": [
    "# Problema 02\n",
    "# Dado el importe total de ventas realizadas por un trabajador(ingresado por teclado)\n",
    "# categorizar que tipo de empleados es, considerando la siguiente tabla:\n",
    "\n",
    "# Categoria: A ->[0, 1000]\n",
    "# Categoria: B -> <1000, 2000]\n",
    "# Categoria: C -> <2000, 5000]\n",
    "# Categoria: D -> <5000, MAS]\n",
    "importe = int(input(\"Ingrese su importe total de ventas: \"))\n",
    "\n",
    "if  0 > importe: print('El dato es erróneo')\n",
    "elif 0 <= importe <= 1000 : print('Usted pertenece a la categoria A')\n",
    "elif 1000 < importe <= 2000 : print('Usted pertenece a la categoria B')\n",
    "elif 2000 < importe <= 5000 : print('Usted pertenece a la categoria C')\n",
    "elif 5000 < importe : print('Usted pertenece a la categoria D')\n"
   ]
  },
  {
   "cell_type": "code",
   "execution_count": 35,
   "id": "81e0f913",
   "metadata": {},
   "outputs": [],
   "source": [
    "#ELIF\n",
    "# Problema 03, solucionar el problema anterior utilizando elif\n",
    "# Dado el importe total de ventas realizadas por un trabajador(ingresado por teclado)\n",
    "# categorizar que tipo de empleados es, considerando la siguiente tabla:\n",
    "\n",
    "# Categoria: A ->[0, 1000]\n",
    "# Categoria: B -> <1000, 2000]\n",
    "# Categoria: C -> <2000, 5000]\n",
    "# Categoria: D -> <5000, MAS]\n",
    "# ya realizado \n"
   ]
  },
  {
   "cell_type": "code",
   "execution_count": 36,
   "id": "8b379722",
   "metadata": {},
   "outputs": [],
   "source": [
    "#Estructuras repetitivas\n",
    "#FOR"
   ]
  },
  {
   "cell_type": "code",
   "execution_count": 37,
   "id": "00d964e2",
   "metadata": {},
   "outputs": [],
   "source": [
    "#Problema 01:\n",
    "# Mostrar los elementos de una lista for\n",
    "#Solución"
   ]
  },
  {
   "cell_type": "code",
   "execution_count": 40,
   "id": "ccd30170",
   "metadata": {},
   "outputs": [
    {
     "name": "stdout",
     "output_type": "stream",
     "text": [
      "Acuña\n",
      "Chavez\n",
      "Condori\n",
      "Contreras\n"
     ]
    }
   ],
   "source": [
    "aula =['Acuña', 'Chavez','Condori', 'Contreras']\n",
    "\n",
    "#Por cada alumno que está en la lista, imprimir alumno\n",
    "for alumno in aula:\n",
    "    print(alumno)\n",
    "    "
   ]
  },
  {
   "cell_type": "code",
   "execution_count": 41,
   "id": "5b5344e6",
   "metadata": {},
   "outputs": [],
   "source": [
    "#Problema 02:\n",
    "#Dado una cadena ingresado por teclado, mostrar cada caracter de la cadena, utilizando la estructura for"
   ]
  },
  {
   "cell_type": "code",
   "execution_count": 43,
   "id": "6c42d523",
   "metadata": {},
   "outputs": [
    {
     "name": "stdout",
     "output_type": "stream",
     "text": [
      "Ingrese cadena:Dile no a la bika\n",
      "D\n",
      "i\n",
      "l\n",
      "e\n",
      " \n",
      "n\n",
      "o\n",
      " \n",
      "a\n",
      " \n",
      "l\n",
      "a\n",
      " \n",
      "b\n",
      "i\n",
      "k\n",
      "a\n"
     ]
    }
   ],
   "source": [
    "# Solución\n",
    "cadena = input(\"Ingrese cadena:\")\n",
    "for caracter in cadena:\n",
    "    print(caracter)"
   ]
  },
  {
   "cell_type": "code",
   "execution_count": 44,
   "id": "4c784222",
   "metadata": {},
   "outputs": [
    {
     "data": {
      "text/plain": [
       "range(0, 5)"
      ]
     },
     "execution_count": 44,
     "metadata": {},
     "output_type": "execute_result"
    }
   ],
   "source": [
    "# Para generar rangos de numeros utilizamos range()\n",
    "range(5)"
   ]
  },
  {
   "cell_type": "code",
   "execution_count": 45,
   "id": "60dfd4fd",
   "metadata": {},
   "outputs": [
    {
     "name": "stdout",
     "output_type": "stream",
     "text": [
      "0\n",
      "1\n",
      "2\n",
      "3\n",
      "4\n",
      "5\n",
      "6\n",
      "7\n",
      "8\n",
      "9\n",
      "10\n"
     ]
    }
   ],
   "source": [
    "#Problema 02\n",
    "#Imprimir los numeros de 0 a 10 utilizando for\n",
    "for numero in range(11):\n",
    "    print(numero)"
   ]
  },
  {
   "cell_type": "code",
   "execution_count": 48,
   "id": "8180c648",
   "metadata": {},
   "outputs": [
    {
     "name": "stdout",
     "output_type": "stream",
     "text": [
      "5\n",
      "6\n",
      "7\n",
      "8\n",
      "9\n",
      "10\n"
     ]
    }
   ],
   "source": [
    "#Problema 03\n",
    "#Imprimir los numeros de 5 a 10 utilizando for\n",
    "for numero in range(5,11):\n",
    "    print (numero)"
   ]
  },
  {
   "cell_type": "code",
   "execution_count": 49,
   "id": "38488bc9",
   "metadata": {},
   "outputs": [
    {
     "name": "stdout",
     "output_type": "stream",
     "text": [
      "10\n",
      "12\n",
      "14\n",
      "16\n",
      "18\n",
      "20\n"
     ]
    }
   ],
   "source": [
    "# Problema 04\n",
    "# Imprimir los numeros de 10 a 20, utilizando for \n",
    "for numero in range(10,21,2):\n",
    "    print(numero)"
   ]
  },
  {
   "cell_type": "code",
   "execution_count": 50,
   "id": "8c053b1d",
   "metadata": {},
   "outputs": [],
   "source": [
    "# Tambien funciona los bucles anidados:"
   ]
  },
  {
   "cell_type": "code",
   "execution_count": 65,
   "id": "886f3d2f",
   "metadata": {},
   "outputs": [
    {
     "name": "stdout",
     "output_type": "stream",
     "text": [
      "[12, 5, 1, 4, 10, 0]\n",
      "Lista ordenada: \n",
      "[0, 1, 4, 5, 10, 12]\n"
     ]
    }
   ],
   "source": [
    "# Problema\n",
    "# Dado una lista de numeros, utilizando el algoritmo de burbuja ordenarlos de menor a mayor\n",
    "lista =[12,5,1,4,10,0]\n",
    "print(lista)\n",
    "for i in range(0,len(lista)-1):\n",
    "    for j in range (i+1,len(lista)):\n",
    "        if lista[i]>lista[j]:\n",
    "            temp = lista[i]\n",
    "            lista[i] = lista[j]\n",
    "            lista[j] = temp\n",
    "print(\"Lista ordenada: \")\n",
    "print(lista)"
   ]
  },
  {
   "cell_type": "code",
   "execution_count": 66,
   "id": "e56f340c",
   "metadata": {},
   "outputs": [],
   "source": [
    "# while\n",
    "# Permite ejecutar un conjunto de acciones mientras se cumpla una condicion"
   ]
  },
  {
   "cell_type": "code",
   "execution_count": 67,
   "id": "c67bd2de",
   "metadata": {},
   "outputs": [
    {
     "name": "stdout",
     "output_type": "stream",
     "text": [
      "1\n",
      "2\n",
      "3\n",
      "4\n",
      "5\n",
      "6\n",
      "7\n",
      "8\n",
      "9\n",
      "10\n"
     ]
    }
   ],
   "source": [
    "#Ejemplo:\n",
    "numero = 1\n",
    "fin = 10\n",
    "while numero <= fin:\n",
    "    print(numero)\n",
    "    numero+=1"
   ]
  },
  {
   "cell_type": "code",
   "execution_count": null,
   "id": "de31f3fe",
   "metadata": {},
   "outputs": [],
   "source": []
  }
 ],
 "metadata": {
  "kernelspec": {
   "display_name": "Python 3 (ipykernel)",
   "language": "python",
   "name": "python3"
  },
  "language_info": {
   "codemirror_mode": {
    "name": "ipython",
    "version": 3
   },
   "file_extension": ".py",
   "mimetype": "text/x-python",
   "name": "python",
   "nbconvert_exporter": "python",
   "pygments_lexer": "ipython3",
   "version": "3.9.7"
  }
 },
 "nbformat": 4,
 "nbformat_minor": 5
}
