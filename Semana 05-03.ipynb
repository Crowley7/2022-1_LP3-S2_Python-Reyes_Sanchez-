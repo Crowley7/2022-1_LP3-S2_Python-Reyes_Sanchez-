{
 "cells": [
  {
   "cell_type": "markdown",
   "id": "d0be3431",
   "metadata": {},
   "source": [
    "# Semana 05"
   ]
  },
  {
   "cell_type": "markdown",
   "id": "975f4818",
   "metadata": {},
   "source": [
    "Oscar Elias Reyes Sanchez"
   ]
  },
  {
   "cell_type": "markdown",
   "id": "59430e9c",
   "metadata": {},
   "source": [
    "# Temas:\n",
    "1. Números\n",
    "2. Variables\n",
    "3. Manejo de cadenas\n",
    "4. Ingreso de datos por teclado\n",
    "5. Operadores"
   ]
  },
  {
   "cell_type": "markdown",
   "id": "b2c19e6d",
   "metadata": {},
   "source": [
    "3. Manejo de cadenas"
   ]
  },
  {
   "cell_type": "code",
   "execution_count": 2,
   "id": "c00282ee",
   "metadata": {},
   "outputs": [
    {
     "data": {
      "text/plain": [
       "'Universidad Nacional Tecnologica de Lima Sur'"
      ]
     },
     "execution_count": 2,
     "metadata": {},
     "output_type": "execute_result"
    }
   ],
   "source": [
    "cadena = \"Universidad Nacional Tecnologica de Lima Sur\"\n",
    "cadena"
   ]
  },
  {
   "cell_type": "code",
   "execution_count": 3,
   "id": "6df69c8f",
   "metadata": {},
   "outputs": [],
   "source": [
    "#Universidad Nacional Tecnologica de Lima Sur\n",
    "#01234...........                        -2-1"
   ]
  },
  {
   "cell_type": "code",
   "execution_count": 4,
   "id": "250cec1d",
   "metadata": {},
   "outputs": [
    {
     "data": {
      "text/plain": [
       "'r'"
      ]
     },
     "execution_count": 4,
     "metadata": {},
     "output_type": "execute_result"
    }
   ],
   "source": [
    "cadena[5]"
   ]
  },
  {
   "cell_type": "code",
   "execution_count": 5,
   "id": "586a87d4",
   "metadata": {},
   "outputs": [
    {
     "data": {
      "text/plain": [
       "'d'"
      ]
     },
     "execution_count": 5,
     "metadata": {},
     "output_type": "execute_result"
    }
   ],
   "source": [
    "cadena[10]"
   ]
  },
  {
   "cell_type": "code",
   "execution_count": 6,
   "id": "45de3f4c",
   "metadata": {},
   "outputs": [
    {
     "data": {
      "text/plain": [
       "' '"
      ]
     },
     "execution_count": 6,
     "metadata": {},
     "output_type": "execute_result"
    }
   ],
   "source": [
    "# Tambien considera los espacios\n",
    "cadena[11]"
   ]
  },
  {
   "cell_type": "code",
   "execution_count": 7,
   "id": "f37be73a",
   "metadata": {},
   "outputs": [
    {
     "data": {
      "text/plain": [
       "'a'"
      ]
     },
     "execution_count": 7,
     "metadata": {},
     "output_type": "execute_result"
    }
   ],
   "source": [
    "# ¿Que me mostrara?\n",
    "cadena [-5]"
   ]
  },
  {
   "cell_type": "code",
   "execution_count": 8,
   "id": "e5316217",
   "metadata": {},
   "outputs": [
    {
     "data": {
      "text/plain": [
       "'T'"
      ]
     },
     "execution_count": 8,
     "metadata": {},
     "output_type": "execute_result"
    }
   ],
   "source": [
    "cadena [21]"
   ]
  },
  {
   "cell_type": "code",
   "execution_count": 9,
   "id": "13e076b3",
   "metadata": {},
   "outputs": [
    {
     "data": {
      "text/plain": [
       "'T'"
      ]
     },
     "execution_count": 9,
     "metadata": {},
     "output_type": "execute_result"
    }
   ],
   "source": [
    "#Tambien lo puedo mostrar accediendo de manera inversa\n",
    "cadena[-23]"
   ]
  },
  {
   "cell_type": "code",
   "execution_count": 10,
   "id": "732afb92",
   "metadata": {},
   "outputs": [
    {
     "data": {
      "text/plain": [
       "'versi'"
      ]
     },
     "execution_count": 10,
     "metadata": {},
     "output_type": "execute_result"
    }
   ],
   "source": [
    "#Para mostrar un subcadena [desde, hasta una antes]\n",
    "# En Java era substring()\n",
    "cadena[3:8]"
   ]
  },
  {
   "cell_type": "code",
   "execution_count": 11,
   "id": "7fd195c0",
   "metadata": {},
   "outputs": [
    {
     "data": {
      "text/plain": [
       "44"
      ]
     },
     "execution_count": 11,
     "metadata": {},
     "output_type": "execute_result"
    }
   ],
   "source": [
    "#Para saber el tamaño de una cadena utilizamos len()\n",
    "# incluye los espacios en blanco\n",
    "len(cadena)"
   ]
  },
  {
   "cell_type": "code",
   "execution_count": 12,
   "id": "1fb93064",
   "metadata": {},
   "outputs": [
    {
     "data": {
      "text/plain": [
       "'UNIVERSIDAD NACIONAL TECNOLOGICA DE LIMA SUR'"
      ]
     },
     "execution_count": 12,
     "metadata": {},
     "output_type": "execute_result"
    }
   ],
   "source": [
    "# Para mostrar una cadena en mayuscula utilizamos upper()\n",
    "cadena.upper()"
   ]
  },
  {
   "cell_type": "code",
   "execution_count": 13,
   "id": "5b4baf86",
   "metadata": {},
   "outputs": [
    {
     "data": {
      "text/plain": [
       "'Universidad Nacional Tecnologica de Lima Sur'"
      ]
     },
     "execution_count": 13,
     "metadata": {},
     "output_type": "execute_result"
    }
   ],
   "source": [
    "#Ojo.. solo lo muestra porque la original sigue siendo igual\n",
    "cadena"
   ]
  },
  {
   "cell_type": "code",
   "execution_count": 14,
   "id": "ba39d2c4",
   "metadata": {},
   "outputs": [
    {
     "data": {
      "text/plain": [
       "'UNIVERSIDAD NACIONAL TECNOLOGICA DE LIMA SUR'"
      ]
     },
     "execution_count": 14,
     "metadata": {},
     "output_type": "execute_result"
    }
   ],
   "source": [
    "# Si desearas cambiarlo harías: cadena = cadena.upper()\n",
    "cadena = cadena.upper()\n",
    "cadena"
   ]
  },
  {
   "cell_type": "code",
   "execution_count": 15,
   "id": "432fb29a",
   "metadata": {},
   "outputs": [
    {
     "data": {
      "text/plain": [
       "'universidad nacional tecnologica de lima sur'"
      ]
     },
     "execution_count": 15,
     "metadata": {},
     "output_type": "execute_result"
    }
   ],
   "source": [
    "# Para mostrar una cadena en minusculas utilizamos lower()\n",
    "cadena.lower()"
   ]
  },
  {
   "cell_type": "code",
   "execution_count": 16,
   "id": "b867809a",
   "metadata": {},
   "outputs": [
    {
     "data": {
      "text/plain": [
       "['UNIVERSIDAD', 'NACIONAL', 'TECNOLOGICA', 'DE', 'LIMA', 'SUR']"
      ]
     },
     "execution_count": 16,
     "metadata": {},
     "output_type": "execute_result"
    }
   ],
   "source": [
    "# Genera una lista a partir de una cadena. split()\n",
    "cadena.split()"
   ]
  },
  {
   "cell_type": "code",
   "execution_count": 17,
   "id": "a200826b",
   "metadata": {},
   "outputs": [
    {
     "data": {
      "text/plain": [
       "['UNIVERSID', 'D N', 'CION', 'L TECNOLOGIC', ' DE LIM', ' SUR']"
      ]
     },
     "execution_count": 17,
     "metadata": {},
     "output_type": "execute_result"
    }
   ],
   "source": [
    "# Generar una lista utilizando un criterio de separacion a partir de una cadena. split()\n",
    "# En este caso vamos a generar una lista de toda la cadena utilizando como criterio de separacion la letra\n",
    "cadena.split(\"A\")"
   ]
  },
  {
   "cell_type": "code",
   "execution_count": 19,
   "id": "dd6238b2",
   "metadata": {},
   "outputs": [
    {
     "name": "stdout",
     "output_type": "stream",
     "text": [
      "Buenas tardes Elias Reyes\n"
     ]
    }
   ],
   "source": [
    "# Forma clasica, concatenar con +\n",
    "nombre = \"Elias Reyes\"\n",
    "print(\"Buenas tardes \" + nombre)"
   ]
  },
  {
   "cell_type": "code",
   "execution_count": 20,
   "id": "cbe6779a",
   "metadata": {},
   "outputs": [
    {
     "name": "stdout",
     "output_type": "stream",
     "text": [
      "Hola Oscar Elias ya se que tienes 21 años\n"
     ]
    }
   ],
   "source": [
    "#Utilizando el .format()\n",
    "nombre = \"Oscar Elias\"\n",
    "edad = 21\n",
    "print(\"Hola {} ya se que tienes {} años\" . format(nombre, edad))"
   ]
  },
  {
   "cell_type": "code",
   "execution_count": 23,
   "id": "59ea7783",
   "metadata": {},
   "outputs": [
    {
     "name": "stdout",
     "output_type": "stream",
     "text": [
      "10/3 es =3.3333333333333335 \n",
      "10/3 es = 3.333 \n"
     ]
    }
   ],
   "source": [
    "# Dar formato a números con muchos decimales\n",
    "resultado = 10/3\n",
    "print(\"10/3 es ={} \".format(resultado))\n",
    "print(\"10/3 es = {r:1.3f} \".format(r=resultado))"
   ]
  },
  {
   "cell_type": "code",
   "execution_count": 24,
   "id": "409109de",
   "metadata": {},
   "outputs": [
    {
     "name": "stdout",
     "output_type": "stream",
     "text": [
      "Buenos días Pepito Suarez, ya se que tienes 12 años\n"
     ]
    }
   ],
   "source": [
    "# Dar formato con f\n",
    "# La funcion f está disponible desde la version 3.6\n",
    "nombre = \"Pepito Suarez\"\n",
    "edad = 12\n",
    "print(f\"Buenos días {nombre}, ya se que tienes {edad} años\")"
   ]
  },
  {
   "cell_type": "code",
   "execution_count": 26,
   "id": "ce0c6f0c",
   "metadata": {},
   "outputs": [
    {
     "name": "stdout",
     "output_type": "stream",
     "text": [
      "10/3 es = 3.3333333333333335\n",
      "10/3 es = 3.333\n"
     ]
    }
   ],
   "source": [
    "#Dar  formato a número con  muchos decimales con f\n",
    "resultado = 10/3\n",
    "print(f\"10/3 es = {resultado}\")\n",
    "print(f\"10/3 es = {resultado:1.3f}\")"
   ]
  },
  {
   "cell_type": "code",
   "execution_count": null,
   "id": "2ac7c9b1",
   "metadata": {},
   "outputs": [],
   "source": []
  }
 ],
 "metadata": {
  "kernelspec": {
   "display_name": "Python 3 (ipykernel)",
   "language": "python",
   "name": "python3"
  },
  "language_info": {
   "codemirror_mode": {
    "name": "ipython",
    "version": 3
   },
   "file_extension": ".py",
   "mimetype": "text/x-python",
   "name": "python",
   "nbconvert_exporter": "python",
   "pygments_lexer": "ipython3",
   "version": "3.9.7"
  }
 },
 "nbformat": 4,
 "nbformat_minor": 5
}
