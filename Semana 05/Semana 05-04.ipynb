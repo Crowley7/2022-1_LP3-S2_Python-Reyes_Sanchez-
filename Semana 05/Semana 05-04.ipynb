{
 "cells": [
  {
   "cell_type": "markdown",
   "id": "38335e5a",
   "metadata": {},
   "source": [
    "# Semana 05\n",
    "Oscar Elias Reyes Sanchez"
   ]
  },
  {
   "cell_type": "markdown",
   "id": "00e9110a",
   "metadata": {},
   "source": [
    "# Temas:"
   ]
  },
  {
   "cell_type": "markdown",
   "id": "fe7c044c",
   "metadata": {},
   "source": [
    "1. Números\n",
    "2. Variables\n",
    "3. Manejo de Cadenas\n",
    "4. Ingreso de datos por teclado\n",
    "5. Operadores"
   ]
  },
  {
   "cell_type": "markdown",
   "id": "582d3e83",
   "metadata": {},
   "source": [
    "4. Ingreso de datos por teclado"
   ]
  },
  {
   "cell_type": "code",
   "execution_count": 2,
   "id": "caa29e08",
   "metadata": {},
   "outputs": [
    {
     "name": "stdout",
     "output_type": "stream",
     "text": [
      "¿Cuál es tu nombre?\n",
      "elias\n",
      "Hola elias\n"
     ]
    }
   ],
   "source": [
    "# Función input()\n",
    "print (\"¿Cuál es tu nombre?\")\n",
    "nombre = input()\n",
    "print (\"Hola \"+ nombre)"
   ]
  },
  {
   "cell_type": "code",
   "execution_count": 5,
   "id": "8c9e45e3",
   "metadata": {},
   "outputs": [
    {
     "name": "stdout",
     "output_type": "stream",
     "text": [
      "numero 1: \n",
      "12\n",
      "numero 2: \n",
      "34\n",
      "El resultado es 46\n"
     ]
    }
   ],
   "source": [
    "#Cuando ingreso un valor por teclado lo hace como cadena\n",
    "print (\"numero 1: \")\n",
    "numero1 = input()\n",
    "print(\"numero 2: \")\n",
    "numero2 = input()\n",
    "numero3 = int(numero1) + int(numero2)\n",
    "print(f\"El resultado es {numero3}\")"
   ]
  },
  {
   "cell_type": "code",
   "execution_count": null,
   "id": "d3297964",
   "metadata": {},
   "outputs": [],
   "source": []
  }
 ],
 "metadata": {
  "kernelspec": {
   "display_name": "Python 3 (ipykernel)",
   "language": "python",
   "name": "python3"
  },
  "language_info": {
   "codemirror_mode": {
    "name": "ipython",
    "version": 3
   },
   "file_extension": ".py",
   "mimetype": "text/x-python",
   "name": "python",
   "nbconvert_exporter": "python",
   "pygments_lexer": "ipython3",
   "version": "3.9.7"
  }
 },
 "nbformat": 4,
 "nbformat_minor": 5
}
