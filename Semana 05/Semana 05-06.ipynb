{
 "cells": [
  {
   "cell_type": "markdown",
   "id": "44109121",
   "metadata": {},
   "source": [
    "# Semana 05\n",
    "Oscar Elias Reyes Sanchez"
   ]
  },
  {
   "cell_type": "markdown",
   "id": "8e3bf1d6",
   "metadata": {},
   "source": [
    "# Temas:\n",
    "6. Colecciones de datos\n",
    "7. Estructuras decisivsa y estructuras repetitivas\n",
    "8. Clases y objetos\n",
    "9. Funciones"
   ]
  },
  {
   "cell_type": "markdown",
   "id": "67de0bea",
   "metadata": {},
   "source": [
    "5.7 Colecciones de Datos"
   ]
  },
  {
   "cell_type": "code",
   "execution_count": 1,
   "id": "5d62e074",
   "metadata": {},
   "outputs": [
    {
     "name": "stdout",
     "output_type": "stream",
     "text": [
      "['Vasquez', 'Reyes', 'Condori', 'Martinez']\n"
     ]
    }
   ],
   "source": [
    "# Listas \n",
    "# Es una coleccion de elementos que puede ser ordenado, modificado, etc.....\n",
    "# Se identifica por los corchetes\n",
    "#Ejemplo:\n",
    "aula = ['Vasquez','Reyes','Condori','Martinez']\n",
    "print(aula)"
   ]
  },
  {
   "cell_type": "code",
   "execution_count": 2,
   "id": "73c7a2a7",
   "metadata": {},
   "outputs": [
    {
     "data": {
      "text/plain": [
       "['Vasquez', 'Reyes', 'Condori', 'Martinez']"
      ]
     },
     "execution_count": 2,
     "metadata": {},
     "output_type": "execute_result"
    }
   ],
   "source": [
    "# Tambien se puede imprimir con solo mencionar la lista\n",
    "aula"
   ]
  },
  {
   "cell_type": "code",
   "execution_count": 3,
   "id": "4ab1a298",
   "metadata": {},
   "outputs": [],
   "source": [
    "# Podemos extraer cada elemento por su posicion"
   ]
  },
  {
   "cell_type": "code",
   "execution_count": 4,
   "id": "9a73cd32",
   "metadata": {},
   "outputs": [
    {
     "name": "stdout",
     "output_type": "stream",
     "text": [
      "Vasquez\n",
      "Reyes\n"
     ]
    }
   ],
   "source": [
    "print(aula[0])\n",
    "print(aula[1])"
   ]
  },
  {
   "cell_type": "code",
   "execution_count": 5,
   "id": "eadf6593",
   "metadata": {},
   "outputs": [
    {
     "data": {
      "text/plain": [
       "'Sayas'"
      ]
     },
     "execution_count": 5,
     "metadata": {},
     "output_type": "execute_result"
    }
   ],
   "source": [
    "# puedo asignar un valor a una posicion de la lista\n",
    "aula[1] = 'Sayas'\n",
    "aula[1]"
   ]
  },
  {
   "cell_type": "code",
   "execution_count": 6,
   "id": "f002e1d7",
   "metadata": {},
   "outputs": [
    {
     "data": {
      "text/plain": [
       "['Vasquez', 'Sayas', 'Condori', 'Martinez']"
      ]
     },
     "execution_count": 6,
     "metadata": {},
     "output_type": "execute_result"
    }
   ],
   "source": [
    "# Mostramos como quedo la lista\n",
    "aula"
   ]
  },
  {
   "cell_type": "code",
   "execution_count": 7,
   "id": "848dddf9",
   "metadata": {},
   "outputs": [
    {
     "data": {
      "text/plain": [
       "['Vasquez', 'Sayas', 'Condori', 'Martinez', 'Trigos', 'Gomez']"
      ]
     },
     "execution_count": 7,
     "metadata": {},
     "output_type": "execute_result"
    }
   ],
   "source": [
    "# Para agregar un elemento utilizamos append\n",
    "aula.append(\"Trigos\")\n",
    "aula.append(\"Gomez\")\n",
    "aula"
   ]
  },
  {
   "cell_type": "code",
   "execution_count": 11,
   "id": "8b8a9209",
   "metadata": {
    "scrolled": true
   },
   "outputs": [],
   "source": [
    "#Para eliminar elementos utilizamos remove[]"
   ]
  },
  {
   "cell_type": "code",
   "execution_count": 12,
   "id": "0302cfba",
   "metadata": {},
   "outputs": [
    {
     "data": {
      "text/plain": [
       "['Vasquez', 'Condori', 'Martinez', 'Trigos', 'Gomez']"
      ]
     },
     "execution_count": 12,
     "metadata": {},
     "output_type": "execute_result"
    }
   ],
   "source": [
    "aula.remove(\"Sayas\")\n",
    "aula"
   ]
  },
  {
   "cell_type": "code",
   "execution_count": 13,
   "id": "9bbbab78",
   "metadata": {},
   "outputs": [],
   "source": [
    "# Si no hubiera varios elementos de valores iguales se elimina la primera coincidencia"
   ]
  },
  {
   "cell_type": "code",
   "execution_count": 18,
   "id": "af8321a7",
   "metadata": {},
   "outputs": [
    {
     "data": {
      "text/plain": [
       "['Vasquez', 'Martinez', 'Trigos', 'Gomez']"
      ]
     },
     "execution_count": 18,
     "metadata": {},
     "output_type": "execute_result"
    }
   ],
   "source": [
    "aula"
   ]
  },
  {
   "cell_type": "code",
   "execution_count": 19,
   "id": "3d0121be",
   "metadata": {},
   "outputs": [],
   "source": [
    "# Para obtener el tamaño utilizamos len()"
   ]
  },
  {
   "cell_type": "code",
   "execution_count": 20,
   "id": "670977b9",
   "metadata": {},
   "outputs": [
    {
     "data": {
      "text/plain": [
       "4"
      ]
     },
     "execution_count": 20,
     "metadata": {},
     "output_type": "execute_result"
    }
   ],
   "source": [
    "len(aula)"
   ]
  },
  {
   "cell_type": "code",
   "execution_count": 24,
   "id": "6dc7cc75",
   "metadata": {},
   "outputs": [
    {
     "name": "stdout",
     "output_type": "stream",
     "text": [
      "Vasquez\n",
      "Martinez\n",
      "Trigos\n",
      "Gomez\n"
     ]
    }
   ],
   "source": [
    "#Para recorrer podemos utilizar una estructura repetitiva \n",
    "for alumno in aula:\n",
    "    print(alumno)"
   ]
  },
  {
   "cell_type": "code",
   "execution_count": 25,
   "id": "acc45cb0",
   "metadata": {},
   "outputs": [
    {
     "data": {
      "text/plain": [
       "['Gomez', 'Trigos', 'Martinez', 'Vasquez']"
      ]
     },
     "execution_count": 25,
     "metadata": {},
     "output_type": "execute_result"
    }
   ],
   "source": [
    "#Para invertir la lista utilizamos reverse()\n",
    "# Invertir no significa ordenar en forma de sin invertir la lista ascendentemente\n",
    "aula.reverse()\n",
    "aula"
   ]
  },
  {
   "cell_type": "code",
   "execution_count": 26,
   "id": "7730196b",
   "metadata": {},
   "outputs": [
    {
     "data": {
      "text/plain": [
       "['Gomez', 'Martinez', 'Trigos', 'Vasquez']"
      ]
     },
     "execution_count": 26,
     "metadata": {},
     "output_type": "execute_result"
    }
   ],
   "source": [
    "#Para ordenar una lista utilizamos sort()\n",
    "aula.sort()\n",
    "aula"
   ]
  },
  {
   "cell_type": "code",
   "execution_count": 27,
   "id": "493a079e",
   "metadata": {},
   "outputs": [
    {
     "data": {
      "text/plain": [
       "('Vasquez', 'Reyes', 'Condori', 'Martinez')"
      ]
     },
     "execution_count": 27,
     "metadata": {},
     "output_type": "execute_result"
    }
   ],
   "source": [
    "# Tuplas\n",
    "# Es una colección de elementos ordenada(ordenado significa que tiene un indice) que no se puede modificar, es inalterable.\n",
    "# No se puede agregar elementos ni eliminar.\n",
    "# Se identifica por los paréntesis\n",
    "tupla_aula = ('Vasquez','Reyes','Condori','Martinez')\n",
    "tupla_aula"
   ]
  },
  {
   "cell_type": "code",
   "execution_count": null,
   "id": "508c9819",
   "metadata": {},
   "outputs": [],
   "source": []
  }
 ],
 "metadata": {
  "kernelspec": {
   "display_name": "Python 3 (ipykernel)",
   "language": "python",
   "name": "python3"
  },
  "language_info": {
   "codemirror_mode": {
    "name": "ipython",
    "version": 3
   },
   "file_extension": ".py",
   "mimetype": "text/x-python",
   "name": "python",
   "nbconvert_exporter": "python",
   "pygments_lexer": "ipython3",
   "version": "3.9.7"
  }
 },
 "nbformat": 4,
 "nbformat_minor": 5
}
