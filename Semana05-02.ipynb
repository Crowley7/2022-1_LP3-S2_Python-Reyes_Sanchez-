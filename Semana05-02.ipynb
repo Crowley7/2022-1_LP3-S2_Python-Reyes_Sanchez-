{
 "cells": [
  {
   "cell_type": "markdown",
   "id": "5fe19d43",
   "metadata": {},
   "source": [
    "# Semana 05\n",
    "Oscar Elias Reyes Sanchez"
   ]
  },
  {
   "cell_type": "markdown",
   "id": "25c1a6fc",
   "metadata": {},
   "source": [
    "# Temas:\n",
    "1. Números\n",
    "2. Variables\n",
    "3. Manejo de Cadenas\n",
    "4. Ingreso de datos por teclado\n",
    "5. Operadores"
   ]
  },
  {
   "cell_type": "markdown",
   "id": "26cebd46",
   "metadata": {},
   "source": [
    "2. Variables."
   ]
  },
  {
   "cell_type": "markdown",
   "id": "a21e04f1",
   "metadata": {},
   "source": [
    "Siempre deben iniciar con una letra o guión abajo. (Nunca con un número u otro símbolo)"
   ]
  },
  {
   "cell_type": "code",
   "execution_count": 2,
   "id": "e1f8a869",
   "metadata": {},
   "outputs": [],
   "source": [
    "edad = 41\n"
   ]
  },
  {
   "cell_type": "code",
   "execution_count": 3,
   "id": "4c5e165d",
   "metadata": {},
   "outputs": [
    {
     "data": {
      "text/plain": [
       "41"
      ]
     },
     "execution_count": 3,
     "metadata": {},
     "output_type": "execute_result"
    }
   ],
   "source": [
    "edad"
   ]
  },
  {
   "cell_type": "code",
   "execution_count": 4,
   "id": "fc1ee6c4",
   "metadata": {},
   "outputs": [],
   "source": [
    "nombre = \"Elias\""
   ]
  },
  {
   "cell_type": "code",
   "execution_count": 5,
   "id": "5bc77e0e",
   "metadata": {},
   "outputs": [
    {
     "data": {
      "text/plain": [
       "'Elias'"
      ]
     },
     "execution_count": 5,
     "metadata": {},
     "output_type": "execute_result"
    }
   ],
   "source": [
    "nombre"
   ]
  },
  {
   "cell_type": "code",
   "execution_count": 6,
   "id": "79b88a32",
   "metadata": {},
   "outputs": [],
   "source": [
    "apellido = \"Reyes Sanchez\""
   ]
  },
  {
   "cell_type": "code",
   "execution_count": 7,
   "id": "630254ef",
   "metadata": {},
   "outputs": [
    {
     "data": {
      "text/plain": [
       "'Reyes Sanchez'"
      ]
     },
     "execution_count": 7,
     "metadata": {},
     "output_type": "execute_result"
    }
   ],
   "source": [
    "apellido"
   ]
  },
  {
   "cell_type": "code",
   "execution_count": 8,
   "id": "afc51296",
   "metadata": {},
   "outputs": [
    {
     "ename": "SyntaxError",
     "evalue": "invalid syntax (Temp/ipykernel_4360/3420970967.py, line 1)",
     "output_type": "error",
     "traceback": [
      "\u001b[1;36m  File \u001b[1;32m\"C:\\Users\\admin\\AppData\\Local\\Temp/ipykernel_4360/3420970967.py\"\u001b[1;36m, line \u001b[1;32m1\u001b[0m\n\u001b[1;33m    nombrecompleto= nombre +\u001b[0m\n\u001b[1;37m                             ^\u001b[0m\n\u001b[1;31mSyntaxError\u001b[0m\u001b[1;31m:\u001b[0m invalid syntax\n"
     ]
    }
   ],
   "source": [
    "nombrecompleto= nombre + \n",
    "apellido"
   ]
  },
  {
   "cell_type": "code",
   "execution_count": 9,
   "id": "e4097292",
   "metadata": {},
   "outputs": [],
   "source": [
    "nombrecompleto = nombre + apellido"
   ]
  },
  {
   "cell_type": "code",
   "execution_count": 10,
   "id": "8b76bab4",
   "metadata": {},
   "outputs": [
    {
     "data": {
      "text/plain": [
       "'EliasReyes Sanchez'"
      ]
     },
     "execution_count": 10,
     "metadata": {},
     "output_type": "execute_result"
    }
   ],
   "source": [
    "nombrecompleto\n"
   ]
  },
  {
   "cell_type": "code",
   "execution_count": 11,
   "id": "7d6afb1d",
   "metadata": {},
   "outputs": [],
   "source": [
    "nombrecompleto = nombre + \" \" + apellido"
   ]
  },
  {
   "cell_type": "code",
   "execution_count": 12,
   "id": "b02d1f04",
   "metadata": {},
   "outputs": [
    {
     "data": {
      "text/plain": [
       "'Elias Reyes Sanchez'"
      ]
     },
     "execution_count": 12,
     "metadata": {},
     "output_type": "execute_result"
    }
   ],
   "source": [
    "nombrecompleto"
   ]
  },
  {
   "cell_type": "markdown",
   "id": "0fc23713",
   "metadata": {},
   "source": [
    "# Para saber el tipo de variable utilizamos la función type()\n",
    "# Por ejemplo:\n",
    "numero = 50\n",
    "type(numero)"
   ]
  },
  {
   "cell_type": "code",
   "execution_count": 13,
   "id": "4c36ee64",
   "metadata": {},
   "outputs": [
    {
     "data": {
      "text/plain": [
       "int"
      ]
     },
     "execution_count": 13,
     "metadata": {},
     "output_type": "execute_result"
    }
   ],
   "source": [
    "numero = 50\n",
    "type(numero)"
   ]
  },
  {
   "cell_type": "code",
   "execution_count": 14,
   "id": "e227260d",
   "metadata": {},
   "outputs": [
    {
     "data": {
      "text/plain": [
       "str"
      ]
     },
     "execution_count": 14,
     "metadata": {},
     "output_type": "execute_result"
    }
   ],
   "source": [
    "type(nombre)"
   ]
  },
  {
   "cell_type": "code",
   "execution_count": 15,
   "id": "e5d5efcc",
   "metadata": {},
   "outputs": [],
   "source": [
    "talla = 1.68"
   ]
  },
  {
   "cell_type": "code",
   "execution_count": 16,
   "id": "84578f45",
   "metadata": {},
   "outputs": [
    {
     "data": {
      "text/plain": [
       "1.68"
      ]
     },
     "execution_count": 16,
     "metadata": {},
     "output_type": "execute_result"
    }
   ],
   "source": [
    "talla"
   ]
  },
  {
   "cell_type": "code",
   "execution_count": 17,
   "id": "506c8a46",
   "metadata": {},
   "outputs": [
    {
     "data": {
      "text/plain": [
       "float"
      ]
     },
     "execution_count": 17,
     "metadata": {},
     "output_type": "execute_result"
    }
   ],
   "source": [
    "type(talla)"
   ]
  },
  {
   "cell_type": "code",
   "execution_count": 18,
   "id": "511f0fba",
   "metadata": {},
   "outputs": [],
   "source": [
    "# Para convertir un numero en cadena utilizamos str()"
   ]
  },
  {
   "cell_type": "code",
   "execution_count": 19,
   "id": "c8df7645",
   "metadata": {},
   "outputs": [],
   "source": [
    "numero = 100\n",
    "cadena = str(numero)"
   ]
  },
  {
   "cell_type": "code",
   "execution_count": 20,
   "id": "227c251f",
   "metadata": {},
   "outputs": [
    {
     "data": {
      "text/plain": [
       "'100'"
      ]
     },
     "execution_count": 20,
     "metadata": {},
     "output_type": "execute_result"
    }
   ],
   "source": [
    "cadena "
   ]
  },
  {
   "cell_type": "code",
   "execution_count": 21,
   "id": "29cad68d",
   "metadata": {},
   "outputs": [
    {
     "data": {
      "text/plain": [
       "str"
      ]
     },
     "execution_count": 21,
     "metadata": {},
     "output_type": "execute_result"
    }
   ],
   "source": [
    "type(cadena)"
   ]
  },
  {
   "cell_type": "code",
   "execution_count": 23,
   "id": "eb06d5a9",
   "metadata": {},
   "outputs": [],
   "source": [
    "# Para convertir una cadena en un entero utilizamos int()\n",
    "cadena2 = \"50\"\n",
    "numero2 = int(cadena2)"
   ]
  },
  {
   "cell_type": "code",
   "execution_count": 24,
   "id": "a77157b7",
   "metadata": {},
   "outputs": [
    {
     "data": {
      "text/plain": [
       "50"
      ]
     },
     "execution_count": 24,
     "metadata": {},
     "output_type": "execute_result"
    }
   ],
   "source": [
    "numero2"
   ]
  },
  {
   "cell_type": "code",
   "execution_count": 25,
   "id": "ff6fcb14",
   "metadata": {},
   "outputs": [
    {
     "data": {
      "text/plain": [
       "int"
      ]
     },
     "execution_count": 25,
     "metadata": {},
     "output_type": "execute_result"
    }
   ],
   "source": [
    "type(numero2)"
   ]
  },
  {
   "cell_type": "code",
   "execution_count": 26,
   "id": "01c612a6",
   "metadata": {},
   "outputs": [],
   "source": [
    "# Para convertir una cadena a un decimal utilizamos float\n",
    "cadena2 = \"50\"\n",
    "numero2 = float(cadena2)"
   ]
  },
  {
   "cell_type": "code",
   "execution_count": 27,
   "id": "e65d0a61",
   "metadata": {},
   "outputs": [
    {
     "data": {
      "text/plain": [
       "50.0"
      ]
     },
     "execution_count": 27,
     "metadata": {},
     "output_type": "execute_result"
    }
   ],
   "source": [
    "numero2"
   ]
  },
  {
   "cell_type": "code",
   "execution_count": 28,
   "id": "4e2df77f",
   "metadata": {},
   "outputs": [
    {
     "data": {
      "text/plain": [
       "float"
      ]
     },
     "execution_count": 28,
     "metadata": {},
     "output_type": "execute_result"
    }
   ],
   "source": [
    "type(numero2)"
   ]
  },
  {
   "cell_type": "code",
   "execution_count": null,
   "id": "cf4e285e",
   "metadata": {},
   "outputs": [],
   "source": []
  }
 ],
 "metadata": {
  "kernelspec": {
   "display_name": "Python 3 (ipykernel)",
   "language": "python",
   "name": "python3"
  },
  "language_info": {
   "codemirror_mode": {
    "name": "ipython",
    "version": 3
   },
   "file_extension": ".py",
   "mimetype": "text/x-python",
   "name": "python",
   "nbconvert_exporter": "python",
   "pygments_lexer": "ipython3",
   "version": "3.9.7"
  }
 },
 "nbformat": 4,
 "nbformat_minor": 5
}
